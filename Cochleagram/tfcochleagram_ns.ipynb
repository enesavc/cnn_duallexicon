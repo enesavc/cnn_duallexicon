{
 "cells": [
  {
   "cell_type": "markdown",
   "metadata": {},
   "source": [
    "# Check GPU"
   ]
  },
  {
   "cell_type": "code",
   "execution_count": 1,
   "metadata": {},
   "outputs": [
    {
     "name": "stdout",
     "output_type": "stream",
     "text": [
      "Num GPUs Available:  1\n",
      "Device mapping:\n",
      "/job:localhost/replica:0/task:0/device:XLA_CPU:0 -> device: XLA_CPU device\n",
      "/job:localhost/replica:0/task:0/device:GPU:0 -> device: 0, name: Quadro RTX 8000, pci bus id: 0000:17:00.0, compute capability: 7.5\n",
      "/job:localhost/replica:0/task:0/device:XLA_GPU:0 -> device: XLA_GPU device\n",
      "\n",
      "WARNING:tensorflow:From <ipython-input-1-1b3a4ed97909>:5: is_gpu_available (from tensorflow.python.framework.test_util) is deprecated and will be removed in a future version.\n",
      "Instructions for updating:\n",
      "Use `tf.config.list_physical_devices('GPU')` instead.\n"
     ]
    },
    {
     "data": {
      "text/plain": [
       "True"
      ]
     },
     "execution_count": 1,
     "metadata": {},
     "output_type": "execute_result"
    }
   ],
   "source": [
    "#Check for GPU\n",
    "import tensorflow as tf\n",
    "print(\"Num GPUs Available: \", len(tf.config.list_logical_devices('GPU')))\n",
    "sess = tf.compat.v1.Session(config=tf.compat.v1.ConfigProto(log_device_placement=True))\n",
    "tf.test.is_gpu_available(\n",
    "    cuda_only=False, min_cuda_compute_capability=None)"
   ]
  },
  {
   "cell_type": "markdown",
   "metadata": {},
   "source": [
    "# tfcochleagram Generation\n",
    "\n",
    "Loads an audio file and generates a cochleagram using the tfcochleagram.py library. \n",
    "\n"
   ]
  },
  {
   "cell_type": "code",
   "execution_count": 2,
   "metadata": {},
   "outputs": [],
   "source": [
    "from __future__ import division\n",
    "# For displaying audio and images in notebook\n",
    "#import IPython.display as ipd\n",
    "\n",
    "from PIL import Image\n",
    "import numpy as np\n",
    "%matplotlib inline\n",
    "import matplotlib.pyplot as plt\n",
    "import scipy\n",
    "import time\n",
    "import os\n",
    "from os import listdir\n",
    "from os.path import isdir, join, dirname, join, realpath\n",
    "from sklearn.preprocessing import LabelEncoder\n",
    "from keras.utils import to_categorical\n",
    "import tfcochleagram\n",
    "import h5py\n",
    "\n",
    "# Helper functions for loading audio\n",
    "from utils import *\n"
   ]
  },
  {
   "cell_type": "code",
   "execution_count": 6,
   "metadata": {
    "scrolled": true
   },
   "outputs": [
    {
     "name": "stdout",
     "output_type": "stream",
     "text": [
      "(1, 203, 400, 1)\n",
      "0.9218995571136475\n"
     ]
    }
   ],
   "source": [
    "t0 = time.time()\n",
    "cwd = os.getcwd()\n",
    "PATH = join(cwd, 'input')\n",
    "#print(PATH)\n",
    "\n",
    "onlydirs = [f for f in listdir(PATH) if isdir(join(PATH, f))]\n",
    "j = 0\n",
    "for dirs in onlydirs:\n",
    "    dirname = PATH + \"/\" + dirs \n",
    "    rfnArray = [os.path.join(dirname, f)for f in os.listdir(dirname) if f.endswith('.wav')]\n",
    "    i = 0\n",
    "    \n",
    "    for f in rfnArray:\n",
    "        j = j + 1\n",
    "        print(j, end='\\r')\n",
    "        #print('Running demo with sound file: %s ' % f)\n",
    "        test_audio, SR = load_audio_wav_resample(f, DUR_SECS='full', resample_SR=20000)\n",
    "        # Generally a good idea to rms normalize the audio\n",
    "        test_audio = rms_normalize_audio(test_audio, rms_value=0.01)\n",
    "        # Using rFFT below, and it is currently implemented only for even # signals. \n",
    "        if len(test_audio.ravel())%2:\n",
    "            test_audio = test_audio[:-1]\n",
    "            #print(test_audio)\n",
    "        if len(test_audio.shape) == 1: # we need to make sure the input node has a first dimension that corresponds to the batch size\n",
    "            test_audio = np.expand_dims(test_audio,0) \n",
    "        nets = {}\n",
    "        # tfcochleagram expects a dictionary with 'input_signal' defined for the input audio\n",
    "        nets['input_signal'] = tf.Variable(test_audio, dtype=tf.float32)\n",
    "        nets = tfcochleagram.cochleagram_graph(nets, SR, rFFT=True)\n",
    "        #with tf.Session() as sess:\n",
    "        #with tf.compat.v1.Session() as sess:\n",
    "        #nets['input_signal'] = test_audio\n",
    "        #cochleagram = nets['cochleagram']\n",
    "        #filters_out = nets['filts_tensor']\n",
    "        \n",
    "        #save the cochs into pngs\n",
    "        MAIN_PATH = join(cwd, 'output')\n",
    "        if isdir(MAIN_PATH + '/%s' %dirs) == False:      \n",
    "         os.mkdir(MAIN_PATH + '/%s' %dirs)\n",
    "        \n",
    "        filenames_with_extension = os.listdir(dirname)\n",
    "        \n",
    "        filenames=[x.split('.wav')[0] for x in filenames_with_extension]\n",
    "        filename=filenames[i]\n",
    "        i += 1\n",
    "        #filex=os.path.basename(filename)       \n",
    "\n",
    "        #write to png\n",
    "        import matplotlib\n",
    "        matplotlib.image.imsave(MAIN_PATH + '/%s' %dirs + '/' + filename +'.png', nets['cochleagram'][0,:,:,0], origin='lower', cmap='Blues')\n",
    "       \n",
    "        \n",
    "print(nets['cochleagram'].shape)\n",
    "t1 = time.time()\n",
    "timer = t1-t0\n",
    "print(timer)\n",
    "#plt.matshow(cochleagram[0,:,:,0], origin='lower', cmap='Blues')\n",
    "#plt.colorbar()"
   ]
  },
  {
   "cell_type": "code",
   "execution_count": 15,
   "metadata": {},
   "outputs": [],
   "source": [
    "#import sys\n",
    "#import numpy\n",
    "#numpy.set_printoptions(threshold=sys.maxsize) #to see the numpy array completely\n",
    "#numpy.set_printoptions(threshold=False) #back to normal\n",
    "#a = nets['cochleagram'][0,:,:,0]\n",
    "#numpy.savetxt(\"foo.csv\", a, delimiter=\",\") #save the cochleagram to csv"
   ]
  },
  {
   "cell_type": "code",
   "execution_count": null,
   "metadata": {},
   "outputs": [],
   "source": []
  }
 ],
 "metadata": {
  "kernelspec": {
   "display_name": "Python 3",
   "language": "python",
   "name": "python3"
  },
  "language_info": {
   "codemirror_mode": {
    "name": "ipython",
    "version": 3
   },
   "file_extension": ".py",
   "mimetype": "text/x-python",
   "name": "python",
   "nbconvert_exporter": "python",
   "pygments_lexer": "ipython3",
   "version": "3.8.5"
  }
 },
 "nbformat": 4,
 "nbformat_minor": 1
}
